{
 "cells": [
  {
   "cell_type": "code",
   "metadata": {},
   "source": [
    "import wrappers as s"
   ],
   "outputs": [],
   "execution_count": null
  },
  {
   "metadata": {},
   "cell_type": "markdown",
   "source": [
    "Pull Comments/Submissions from compressed Files and load them into DuckDB. \n",
    "(Too short titles and submissions holding only media are filtered out)"
   ]
  },
  {
   "cell_type": "code",
   "metadata": {},
   "source": [
    "s.extract_filter_load()"
   ],
   "outputs": [],
   "execution_count": null
  },
  {
   "cell_type": "code",
   "metadata": {},
   "source": [
    "s.duck_database.sql(\"SELECT COUNT(*) FROM submissions\")"
   ],
   "outputs": [],
   "execution_count": null
  },
  {
   "metadata": {},
   "cell_type": "markdown",
   "source": [
    "Embeddings are computed with the given model and saved. \n",
    "(can Filter further which submissions we are embedding)"
   ]
  },
  {
   "cell_type": "code",
   "metadata": {},
   "source": [
    "s.compute_embeddings()"
   ],
   "outputs": [],
   "execution_count": null
  },
  {
   "metadata": {},
   "cell_type": "markdown",
   "source": "Next we reduce dimensionality and form clusters"
  },
  {
   "cell_type": "code",
   "metadata": {},
   "source": [
    "s.compute_umap()"
   ],
   "outputs": [],
   "execution_count": null
  },
  {
   "cell_type": "code",
   "metadata": {},
   "source": [
    "s.hdbscan_clustering()"
   ],
   "outputs": [],
   "execution_count": null
  },
  {
   "cell_type": "markdown",
   "metadata": {},
   "source": [
    "Now We can analyze the clusters! (We have to choose a Set to do this with)"
   ]
  },
  {
   "cell_type": "code",
   "metadata": {},
   "source": [
    "\n",
    "top_words, sizes = s.tfidf_topterms_compute()\n"
   ],
   "outputs": [],
   "execution_count": null
  },
  {
   "cell_type": "code",
   "metadata": {},
   "source": [
    "\n",
    "s.show_info(top_words, sizes)\n"
   ],
   "outputs": [],
   "execution_count": null
  }
 ],
 "metadata": {
  "kernelspec": {
   "display_name": "reddit_env",
   "language": "python",
   "name": "python3"
  },
  "language_info": {
   "codemirror_mode": {
    "name": "ipython",
    "version": 3
   },
   "file_extension": ".py",
   "mimetype": "text/x-python",
   "name": "python",
   "nbconvert_exporter": "python",
   "pygments_lexer": "ipython3",
   "version": "3.11.2"
  },
  "orig_nbformat": 4,
  "vscode": {
   "interpreter": {
    "hash": "b30b00451e15a6e568a3bcf31e66c8495019c3ce83a4cf0e953af7b462f8d442"
   }
  }
 },
 "nbformat": 4,
 "nbformat_minor": 2
}
