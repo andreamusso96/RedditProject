{
 "cells": [
  {
   "cell_type": "code",
   "execution_count": 1,
   "metadata": {},
   "outputs": [],
   "source": [
    "import time\n",
    "import duckdb\n",
    "\n",
    "import load_to_db\n",
    "import embeddings\n",
    "import db_queries\n",
    "import main\n",
    "\n",
    "\n",
    "\n",
    "\n",
    "# this is the file to which the sql database will be saved\n",
    "db_file_c = duckdb.connect(\"/cluster/work/coss/anmusso/victoria/loaded_data/loaded_comments.db\")\n",
    "db_file_s = duckdb.connect(\"/cluster/work/coss/anmusso/victoria/loaded_data/loaded_submissions.db\")\n",
    "\n"
   ]
  },
  {
   "attachments": {},
   "cell_type": "markdown",
   "metadata": {},
   "source": [
    "(We could consider changing extract_comments to also add to existing tables)\n",
    "\n",
    "Load comments into duckdb and get embeddings "
   ]
  },
  {
   "cell_type": "code",
   "execution_count": null,
   "metadata": {},
   "outputs": [],
   "source": [
    "\n",
    "\n",
    "main.load('S', '05', '2020')\n",
    "#main.load('C', '05', '2020')\n",
    "#main.load('S', '06', '2020')\n",
    "#main.load('C', '06', '2020')"
   ]
  },
  {
   "cell_type": "code",
   "execution_count": 2,
   "metadata": {},
   "outputs": [
    {
     "name": "stdout",
     "output_type": "stream",
     "text": [
      "C5: \n",
      " ┌──────────────┐\n",
      "│ count_star() │\n",
      "│    int64     │\n",
      "├──────────────┤\n",
      "│     25682568 │\n",
      "└──────────────┘\n",
      "\n",
      "S5: \n",
      " ┌──────────────┐\n",
      "│ count_star() │\n",
      "│    int64     │\n",
      "├──────────────┤\n",
      "│       710071 │\n",
      "└──────────────┘\n",
      "\n",
      "C6: \n",
      " ┌──────────────┐\n",
      "│ count_star() │\n",
      "│    int64     │\n",
      "├──────────────┤\n",
      "│     37746897 │\n",
      "└──────────────┘\n",
      "\n",
      "S6: \n",
      " ┌──────────────┐\n",
      "│ count_star() │\n",
      "│    int64     │\n",
      "├──────────────┤\n",
      "│      1017459 │\n",
      "└──────────────┘\n",
      "\n",
      "time to compute:  0.18347382545471191\n"
     ]
    }
   ],
   "source": [
    "#run to check number of submissions/comments loaded\n",
    "start = time.time()\n",
    "print(\"C5: \\n\", db_file_c.sql(\"SELECT Count(*) FROM C_05_2020;\"))\n",
    "print(\"S5: \\n\", db_file_s.sql('SELECT Count(*) FROM S_05_2020;'))\n",
    "print(\"C6: \\n\", db_file_c.sql('SELECT Count(*) FROM C_06_2020;'))\n",
    "print(\"S6: \\n\", db_file_s.sql('SELECT Count(*) FROM S_06_2020;'))\n",
    "print(\"time to compute: \", time.time()-start)"
   ]
  },
  {
   "attachments": {},
   "cell_type": "markdown",
   "metadata": {},
   "source": [
    "Calculate embeddings: (uncomment line)\n",
    "available models: 'all-mpnet-base-v2' , 'all-MiniLM-L6-v2', 'multi-qa-mpnet-base-dot-v1'\n",
    "will automatically use gpu if available\n",
    "use main.py with batch system to choose GPU"
   ]
  },
  {
   "cell_type": "code",
   "execution_count": 4,
   "metadata": {},
   "outputs": [
    {
     "data": {
      "text/html": [
       "<div>\n",
       "<style scoped>\n",
       "    .dataframe tbody tr th:only-of-type {\n",
       "        vertical-align: middle;\n",
       "    }\n",
       "\n",
       "    .dataframe tbody tr th {\n",
       "        vertical-align: top;\n",
       "    }\n",
       "\n",
       "    .dataframe thead th {\n",
       "        text-align: right;\n",
       "    }\n",
       "</style>\n",
       "<table border=\"1\" class=\"dataframe\">\n",
       "  <thead>\n",
       "    <tr style=\"text-align: right;\">\n",
       "      <th></th>\n",
       "      <th>NUM</th>\n",
       "      <th>subreddit</th>\n",
       "      <th>score</th>\n",
       "      <th>author</th>\n",
       "      <th>created_utc</th>\n",
       "      <th>title</th>\n",
       "      <th>id</th>\n",
       "      <th>num_comments</th>\n",
       "      <th>upvote_ratio</th>\n",
       "    </tr>\n",
       "  </thead>\n",
       "  <tbody>\n",
       "    <tr>\n",
       "      <th>0</th>\n",
       "      <td>0</td>\n",
       "      <td>aaaaaaacccccccce</td>\n",
       "      <td>68</td>\n",
       "      <td>[deleted]</td>\n",
       "      <td>1588291203</td>\n",
       "      <td>LMAO the ace post and the one at the bottom be...</td>\n",
       "      <td>gb7h31</td>\n",
       "      <td>16</td>\n",
       "      <td>0.97</td>\n",
       "    </tr>\n",
       "    <tr>\n",
       "      <th>1</th>\n",
       "      <td>1</td>\n",
       "      <td>SuicideWatch</td>\n",
       "      <td>78</td>\n",
       "      <td>awayitsthrownnn</td>\n",
       "      <td>1588291204</td>\n",
       "      <td>Getting downvoted for posting my feelings on t...</td>\n",
       "      <td>gb7h3f</td>\n",
       "      <td>17</td>\n",
       "      <td>0.87</td>\n",
       "    </tr>\n",
       "    <tr>\n",
       "      <th>2</th>\n",
       "      <td>2</td>\n",
       "      <td>animalid</td>\n",
       "      <td>62</td>\n",
       "      <td>Feanux</td>\n",
       "      <td>1588291205</td>\n",
       "      <td>White Muscovy duck or another kind?</td>\n",
       "      <td>gb7h3w</td>\n",
       "      <td>12</td>\n",
       "      <td>0.98</td>\n",
       "    </tr>\n",
       "    <tr>\n",
       "      <th>3</th>\n",
       "      <td>3</td>\n",
       "      <td>anime</td>\n",
       "      <td>78</td>\n",
       "      <td>AnimeMod</td>\n",
       "      <td>1588291205</td>\n",
       "      <td>Casual Discussion Fridays - Week of May 01, 2020</td>\n",
       "      <td>gb7h42</td>\n",
       "      <td>11002</td>\n",
       "      <td>0.95</td>\n",
       "    </tr>\n",
       "    <tr>\n",
       "      <th>4</th>\n",
       "      <td>4</td>\n",
       "      <td>SkyGame</td>\n",
       "      <td>297</td>\n",
       "      <td>aiden_saxon</td>\n",
       "      <td>1588291207</td>\n",
       "      <td>Made some friends gathering krabs</td>\n",
       "      <td>gb7h50</td>\n",
       "      <td>12</td>\n",
       "      <td>1.00</td>\n",
       "    </tr>\n",
       "    <tr>\n",
       "      <th>5</th>\n",
       "      <td>5</td>\n",
       "      <td>realasians</td>\n",
       "      <td>931</td>\n",
       "      <td>littlesubgirl_</td>\n",
       "      <td>1588291209</td>\n",
       "      <td>Good morning, here is a nude ;) [OC]</td>\n",
       "      <td>gb7h5t</td>\n",
       "      <td>11</td>\n",
       "      <td>0.97</td>\n",
       "    </tr>\n",
       "    <tr>\n",
       "      <th>6</th>\n",
       "      <td>6</td>\n",
       "      <td>KimetsuNoYaiba</td>\n",
       "      <td>290</td>\n",
       "      <td>CheetahSperm18</td>\n",
       "      <td>1588291209</td>\n",
       "      <td>Tanjirou &amp;amp; the gang trying their luck with...</td>\n",
       "      <td>gb7h5w</td>\n",
       "      <td>11</td>\n",
       "      <td>0.99</td>\n",
       "    </tr>\n",
       "    <tr>\n",
       "      <th>7</th>\n",
       "      <td>7</td>\n",
       "      <td>regina</td>\n",
       "      <td>96</td>\n",
       "      <td>smell-the-glove</td>\n",
       "      <td>1588291210</td>\n",
       "      <td>Starting tomorrow Caraway Grill is open again ...</td>\n",
       "      <td>gb7h6i</td>\n",
       "      <td>26</td>\n",
       "      <td>0.94</td>\n",
       "    </tr>\n",
       "    <tr>\n",
       "      <th>8</th>\n",
       "      <td>8</td>\n",
       "      <td>BeardedDragons</td>\n",
       "      <td>31</td>\n",
       "      <td>[deleted]</td>\n",
       "      <td>1588291211</td>\n",
       "      <td>My dude enjoying his worm buffet.</td>\n",
       "      <td>gb7h6t</td>\n",
       "      <td>16</td>\n",
       "      <td>0.93</td>\n",
       "    </tr>\n",
       "    <tr>\n",
       "      <th>9</th>\n",
       "      <td>9</td>\n",
       "      <td>airsoft</td>\n",
       "      <td>27</td>\n",
       "      <td>MrItalianGamer</td>\n",
       "      <td>1588291214</td>\n",
       "      <td>I recently saw people asking about an official...</td>\n",
       "      <td>gb7h84</td>\n",
       "      <td>22</td>\n",
       "      <td>0.95</td>\n",
       "    </tr>\n",
       "  </tbody>\n",
       "</table>\n",
       "</div>"
      ],
      "text/plain": [
       "   NUM         subreddit  score           author  created_utc  \\\n",
       "0    0  aaaaaaacccccccce     68        [deleted]   1588291203   \n",
       "1    1      SuicideWatch     78  awayitsthrownnn   1588291204   \n",
       "2    2          animalid     62           Feanux   1588291205   \n",
       "3    3             anime     78         AnimeMod   1588291205   \n",
       "4    4           SkyGame    297      aiden_saxon   1588291207   \n",
       "5    5        realasians    931   littlesubgirl_   1588291209   \n",
       "6    6    KimetsuNoYaiba    290   CheetahSperm18   1588291209   \n",
       "7    7            regina     96  smell-the-glove   1588291210   \n",
       "8    8    BeardedDragons     31        [deleted]   1588291211   \n",
       "9    9           airsoft     27   MrItalianGamer   1588291214   \n",
       "\n",
       "                                               title      id  num_comments  \\\n",
       "0  LMAO the ace post and the one at the bottom be...  gb7h31            16   \n",
       "1  Getting downvoted for posting my feelings on t...  gb7h3f            17   \n",
       "2                White Muscovy duck or another kind?  gb7h3w            12   \n",
       "3   Casual Discussion Fridays - Week of May 01, 2020  gb7h42         11002   \n",
       "4                  Made some friends gathering krabs  gb7h50            12   \n",
       "5               Good morning, here is a nude ;) [OC]  gb7h5t            11   \n",
       "6  Tanjirou &amp; the gang trying their luck with...  gb7h5w            11   \n",
       "7  Starting tomorrow Caraway Grill is open again ...  gb7h6i            26   \n",
       "8                  My dude enjoying his worm buffet.  gb7h6t            16   \n",
       "9  I recently saw people asking about an official...  gb7h84            22   \n",
       "\n",
       "   upvote_ratio  \n",
       "0          0.97  \n",
       "1          0.87  \n",
       "2          0.98  \n",
       "3          0.95  \n",
       "4          1.00  \n",
       "5          0.97  \n",
       "6          0.99  \n",
       "7          0.94  \n",
       "8          0.93  \n",
       "9          0.95  "
      ]
     },
     "execution_count": 4,
     "metadata": {},
     "output_type": "execute_result"
    }
   ],
   "source": [
    "db_file_s.sql(f\"SELECT * FROM {main.table_id('S','05','2020')} LIMIT 10\").fetchdf()"
   ]
  },
  {
   "cell_type": "code",
   "execution_count": null,
   "metadata": {},
   "outputs": [],
   "source": [
    "t,m,y = 'S','06','2020' #type month and year\n",
    "model_name = 'all-MiniLM-L6-v2'\n",
    "\n",
    "\n",
    "start = time.time()\n",
    "#num = main.embedd(m, y, t, model_name=model_name) #returns number of embeddings calculated\n",
    "\n",
    "with open('time_tracking_2.txt', 'a') as f: #loggs time into file for comparison\n",
    "    f.write(f\"set: {m+t+y}, size:{num} model:{model_name}, gpu:{torch.cuda.get_device_name(0)} , time:{time.time()-start} \\n\")\n"
   ]
  },
  {
   "attachments": {},
   "cell_type": "markdown",
   "metadata": {},
   "source": [
    "Retrieve all entry numbers for certain subreddits within given table"
   ]
  },
  {
   "cell_type": "code",
   "execution_count": 5,
   "metadata": {},
   "outputs": [
    {
     "name": "stdout",
     "output_type": "stream",
     "text": [
      "20758\n"
     ]
    }
   ],
   "source": [
    "t,m,y = 'S','06','2020' #type month and year\n",
    "subr = ['Republican', 'democrats','healthcare', 'Feminism', 'nra', 'education', 'climatechange',\n",
    "            'politics','progressive', 'The_Donald','TrueChristian','Trucks','teenagers','AskMenOver30',\n",
    "            'backpacking','news','BlackLivesMatter','racism','news','usa','DefundPoliceNYC']\n",
    "\n",
    "subr_nums = db_queries.get_subreddit_numbers(table_name = main.table_id(t,m,y), sql_db = db_file_s, subreddits = subr)\n",
    "print(len(subr_nums))"
   ]
  },
  {
   "attachments": {},
   "cell_type": "markdown",
   "metadata": {},
   "source": [
    "load embeddings of retrieved numbers"
   ]
  },
  {
   "cell_type": "code",
   "execution_count": 6,
   "metadata": {},
   "outputs": [
    {
     "name": "stdout",
     "output_type": "stream",
     "text": [
      "(20758, 384)\n"
     ]
    }
   ],
   "source": [
    "M_embedd = main.fetch_embeddings(num_list = subr_nums, table_name=main.table_id(t,m,y), model_name= 'all-MiniLM-L6-v2')\n",
    "print(M_embedd.shape)\n",
    "#print(M_embedd[0])"
   ]
  },
  {
   "attachments": {},
   "cell_type": "markdown",
   "metadata": {},
   "source": [
    "now we can umap the embeddings"
   ]
  },
  {
   "cell_type": "code",
   "execution_count": 7,
   "metadata": {},
   "outputs": [
    {
     "name": "stderr",
     "output_type": "stream",
     "text": [
      "/cluster/apps/nss/gcc-8.2.0/python/3.11.2/x86_64/lib64/python3.11/site-packages/umap_learn-0.5.3-py3.11.egg/umap/distances.py:1063: NumbaDeprecationWarning: \u001b[1mThe 'nopython' keyword argument was not supplied to the 'numba.jit' decorator. The implicit default value for this argument is currently False, but it will be changed to True in Numba 0.59.0. See https://numba.readthedocs.io/en/stable/reference/deprecation.html#deprecation-of-object-mode-fall-back-behaviour-when-using-jit for details.\u001b[0m\n",
      "  @numba.jit()\n",
      "/cluster/apps/nss/gcc-8.2.0/python/3.11.2/x86_64/lib64/python3.11/site-packages/umap_learn-0.5.3-py3.11.egg/umap/distances.py:1071: NumbaDeprecationWarning: \u001b[1mThe 'nopython' keyword argument was not supplied to the 'numba.jit' decorator. The implicit default value for this argument is currently False, but it will be changed to True in Numba 0.59.0. See https://numba.readthedocs.io/en/stable/reference/deprecation.html#deprecation-of-object-mode-fall-back-behaviour-when-using-jit for details.\u001b[0m\n",
      "  @numba.jit()\n",
      "/cluster/apps/nss/gcc-8.2.0/python/3.11.2/x86_64/lib64/python3.11/site-packages/umap_learn-0.5.3-py3.11.egg/umap/distances.py:1086: NumbaDeprecationWarning: \u001b[1mThe 'nopython' keyword argument was not supplied to the 'numba.jit' decorator. The implicit default value for this argument is currently False, but it will be changed to True in Numba 0.59.0. See https://numba.readthedocs.io/en/stable/reference/deprecation.html#deprecation-of-object-mode-fall-back-behaviour-when-using-jit for details.\u001b[0m\n",
      "  @numba.jit()\n",
      "/cluster/apps/nss/gcc-8.2.0/python/3.11.2/x86_64/lib64/python3.11/site-packages/umap_learn-0.5.3-py3.11.egg/umap/umap_.py:660: NumbaDeprecationWarning: \u001b[1mThe 'nopython' keyword argument was not supplied to the 'numba.jit' decorator. The implicit default value for this argument is currently False, but it will be changed to True in Numba 0.59.0. See https://numba.readthedocs.io/en/stable/reference/deprecation.html#deprecation-of-object-mode-fall-back-behaviour-when-using-jit for details.\u001b[0m\n",
      "  @numba.jit()\n",
      "2024-05-13 17:40:18.626590: W tensorflow/compiler/tf2tensorrt/utils/py_utils.cc:38] TF-TRT Warning: Could not find TensorRT\n",
      "/cluster/apps/nss/gcc-8.2.0/python/3.11.2/x86_64/lib64/python3.11/site-packages/umap_learn-0.5.3-py3.11.egg/umap/plot.py:203: NumbaDeprecationWarning: \u001b[1mThe 'nopython' keyword argument was not supplied to the 'numba.jit' decorator. The implicit default value for this argument is currently False, but it will be changed to True in Numba 0.59.0. See https://numba.readthedocs.io/en/stable/reference/deprecation.html#deprecation-of-object-mode-fall-back-behaviour-when-using-jit for details.\u001b[0m\n",
      "  @numba.jit()\n"
     ]
    },
    {
     "name": "stdout",
     "output_type": "stream",
     "text": [
      "                                                   title  subreddit\n",
      "0      Trump's crazy designation of Antifa as terrori...   politics\n",
      "1      Will there be a second stimulus check for Amer...   politics\n",
      "2      Thousands march in Britain in solidarity with ...       news\n",
      "3             Rumsfeld: Looting is transition to freedom   politics\n",
      "4      Former S.C. Secessionist Party founder apologi...       news\n",
      "...                                                  ...        ...\n",
      "20753  Target employee says N.Y. customer demanded sh...       news\n",
      "20754  Democrats say they have a bold climate plan – ...   politics\n",
      "20755  Obama reportedly said Trump’s use of ‘kung flu...   politics\n",
      "20756  Just a small little (better looking) recreatio...  teenagers\n",
      "20757  As Coronavirus Pandemic Persists, Mitch McConn...   politics\n",
      "\n",
      "[20758 rows x 2 columns]\n",
      "transformed and fit\n"
     ]
    }
   ],
   "source": [
    "import embedding_graphs.UMAP_embeddings as umap\n",
    "\n",
    "atr = ['title', 'subreddit']\n",
    "atr_df = db_queries.get_attributes(attributes=atr, numbers=subr_nums, table_name=main.table_id(t,m,y), sql_db=db_file_s)\n",
    "print(atr_df)\n",
    "umap.show_umap(M_embedd,atr_df,'umap try 1')"
   ]
  }
 ],
 "metadata": {
  "kernelspec": {
   "display_name": "reddit_env",
   "language": "python",
   "name": "python3"
  },
  "language_info": {
   "codemirror_mode": {
    "name": "ipython",
    "version": 3
   },
   "file_extension": ".py",
   "mimetype": "text/x-python",
   "name": "python",
   "nbconvert_exporter": "python",
   "pygments_lexer": "ipython3",
   "version": "3.11.2"
  },
  "orig_nbformat": 4,
  "vscode": {
   "interpreter": {
    "hash": "b30b00451e15a6e568a3bcf31e66c8495019c3ce83a4cf0e953af7b462f8d442"
   }
  }
 },
 "nbformat": 4,
 "nbformat_minor": 2
}
