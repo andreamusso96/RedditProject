{
 "cells": [
  {
   "metadata": {},
   "cell_type": "code",
   "outputs": [],
   "execution_count": null,
   "source": [
    "import time\n",
    "import duckdb\n",
    "import load_to_db\n",
    "import embeddings\n",
    "import db_queries\n",
    "\n",
    "\n",
    "subr = ['Republican', 'democrats','healthcare', 'Feminism', 'nra', 'education', 'climatechange',\n",
    "            'politics','progressive', 'The_Donald','TrueChristian','Trucks','teenagers','AskMenOver30',\n",
    "            'backpacking','news','BlackLivesMatter','racism','news','usa','DefundPoliceNYC']\n",
    "\n",
    "\n",
    "# this is the file to which the sql database will be saved\n",
    "db_file_c = duckdb.connect(\"/cluster/work/coss/anmusso/victoria/loaded_data/loaded_comments.db\")\n",
    "db_file_s = duckdb.connect(\"/cluster/work/coss/anmusso/victoria/loaded_data/loaded_submissions.db\")\n",
    "\n"
   ]
  },
  {
   "metadata": {},
   "cell_type": "markdown",
   "source": [
    "(We could consider automating the tablename but just giving the month as input\n",
    "also change extract_comments to also add to existing tables)\n",
    "\n",
    "Load comments into duckdb and get embeddings "
   ]
  },
  {
   "cell_type": "code",
   "metadata": {},
   "source": [
    "#load comments into database\n",
    "tablename ='C_05_2020'\n",
    "input_file = '/cluster/work/coss/anmusso/reddit/submissions/RS_2020-05.zst'\n",
    "\n",
    "start = time.time()\n",
    "load_to_db.extract_comments(input_file_name=input_file, table_name=tablename, sql_db=db_file_c)\n",
    "print('time for loading:', time.time() - start)"
   ],
   "outputs": [],
   "execution_count": null
  },
  {
   "metadata": {},
   "cell_type": "code",
   "outputs": [],
   "execution_count": null,
   "source": [
    "#lod embeddings into h5py file\n",
    "embeddings_file = './embeddings_C_05_2020'\n",
    "start = time.time()\n",
    "embeddings.new_load_embeddings(table_name=tablename, sql_db=db_file_c, output_file =embeddings_file )\n",
    "print('time for embedding:', time.time() - start)"
   ]
  },
  {
   "metadata": {},
   "cell_type": "markdown",
   "source": "Repeat same procedure for submissions"
  },
  {
   "metadata": {},
   "cell_type": "code",
   "outputs": [],
   "execution_count": null,
   "source": [
    "tablename ='S_05_2020'\n",
    "input_file = '/cluster/work/coss/anmusso/reddit/submissions/RS_2020-05.zst'\n",
    "\n",
    "load_to_db.extract_submissions(input_file_name=input_file, table_name=tablename, sql_db=db_file_c)"
   ]
  },
  {
   "metadata": {},
   "cell_type": "code",
   "outputs": [],
   "execution_count": null,
   "source": [
    "#lod embeddings into h5py file\n",
    "embeddings_file = './embeddings_S_05_2020'\n",
    "start = time.time()\n",
    "embeddings.new_load_embeddings(table_name=tablename, sql_db=db_file_c, output_file =embeddings_file )\n",
    "print('time for embedding:', time.time() - start)"
   ]
  },
  {
   "metadata": {},
   "cell_type": "code",
   "outputs": [],
   "execution_count": null,
   "source": ""
  }
 ],
 "metadata": {
  "kernelspec": {
   "display_name": "reddit_env",
   "language": "python",
   "name": "python3"
  },
  "language_info": {
   "codemirror_mode": {
    "name": "ipython",
    "version": 3
   },
   "file_extension": ".py",
   "mimetype": "text/x-python",
   "name": "python",
   "nbconvert_exporter": "python",
   "pygments_lexer": "ipython3",
   "version": "3.11.2"
  },
  "orig_nbformat": 4,
  "vscode": {
   "interpreter": {
    "hash": "b30b00451e15a6e568a3bcf31e66c8495019c3ce83a4cf0e953af7b462f8d442"
   }
  }
 },
 "nbformat": 4,
 "nbformat_minor": 2
}
