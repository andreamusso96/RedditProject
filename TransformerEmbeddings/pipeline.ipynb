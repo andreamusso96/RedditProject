{
 "cells": [
  {
   "cell_type": "code",
   "metadata": {},
   "source": [
    "import time\n",
    "import duckdb\n",
    "import torch\n",
    "\n",
    "import db_queries\n",
    "import main\n",
    "\n",
    "\n",
    "\n",
    "\n",
    "# these are the files to which the sql database will be saved\n",
    "db_file_c = duckdb.connect(\"/cluster/work/coss/anmusso/victoria/loaded_data/loaded_comments.db\")\n",
    "db_file_s = duckdb.connect(\"/cluster/work/coss/anmusso/victoria/loaded_data/loaded_submissions.db\")\n",
    "\n"
   ],
   "outputs": [],
   "execution_count": null
  },
  {
   "attachments": {},
   "cell_type": "markdown",
   "metadata": {},
   "source": [
    "(We could consider changing extract_comments to also add to existing tables)\n",
    "Before running any code adjust base_paths in other files\n",
    "Load comments into duckdb and get embeddings "
   ]
  },
  {
   "cell_type": "code",
   "metadata": {},
   "source": [
    "\n",
    "\n",
    "main.load('S', '05', '2020') #loads submissions of may 2020\n",
    "#main.load('C', '05', '2020') #loads comments of may 2020\n",
    "#main.load('S', '06', '2020')\n",
    "#main.load('C', '06', '2020')"
   ],
   "outputs": [],
   "execution_count": null
  },
  {
   "cell_type": "code",
   "metadata": {},
   "source": [
    "#run to check number of submissions/comments loaded\n",
    "start = time.time()\n",
    "print(\"C5: \\n\", db_file_c.sql(\"SELECT Count(*) FROM C_05_2020;\"))\n",
    "print(\"S5: \\n\", db_file_s.sql('SELECT Count(*) FROM S_05_2020;'))\n",
    "print(\"C6: \\n\", db_file_c.sql('SELECT Count(*) FROM C_06_2020;'))\n",
    "print(\"S6: \\n\", db_file_s.sql('SELECT Count(*) FROM S_06_2020;'))\n",
    "print(\"time to compute: \", time.time()-start)"
   ],
   "outputs": [],
   "execution_count": null
  },
  {
   "attachments": {},
   "cell_type": "markdown",
   "metadata": {},
   "source": [
    "Calculate embeddings: (uncomment line)\n",
    "available models: 'all-mpnet-base-v2' , 'all-MiniLM-L6-v2', 'multi-qa-mpnet-base-dot-v1'\n",
    "will automatically use gpu if available\n",
    "use main.py with batch system to choose GPU"
   ]
  },
  {
   "cell_type": "code",
   "metadata": {},
   "source": [
    "t,m,y = 'S','06','2020' #type month and year\n",
    "model_name = 'all-MiniLM-L6-v2'\n",
    "\n",
    "\n",
    "start = time.time()\n",
    "num = main.embedd(m, y, t, model_name=model_name) #returns number of embeddings calculated\n",
    "\n",
    "with open('time_tracking.txt', 'a') as f: #loggs time into file for comparison\n",
    "    f.write(f\"set: {m+t+y}, size:{num} model:{model_name}, gpu:{torch.cuda.get_device_name(0)} , time:{time.time()-start} \\n\")\n"
   ],
   "outputs": [],
   "execution_count": null
  },
  {
   "attachments": {},
   "cell_type": "markdown",
   "metadata": {},
   "source": [
    "Retrieve all entry numbers for certain subreddits within given table"
   ]
  },
  {
   "cell_type": "code",
   "metadata": {},
   "source": [
    "t,m,y = 'S','06','2020' #type month and year\n",
    "subr = ['Republican', 'democrats','healthcare', 'Feminism', 'nra', 'education', 'climatechange',\n",
    "            'politics','progressive', 'The_Donald','TrueChristian','Trucks','teenagers','AskMenOver30',\n",
    "            'backpacking','news','BlackLivesMatter','racism','news','usa','DefundPoliceNYC']\n",
    "\n",
    "subr_nums = db_queries.get_subreddit_numbers(table_name = main.table_id(t,m,y), sql_db = db_file_s, subreddits = subr)\n",
    "print(len(subr_nums))"
   ],
   "outputs": [],
   "execution_count": null
  },
  {
   "attachments": {},
   "cell_type": "markdown",
   "metadata": {},
   "source": [
    "load embeddings of retrieved numbers"
   ]
  },
  {
   "cell_type": "code",
   "metadata": {},
   "source": [
    "M_embedd = main.fetch_embeddings(num_list = subr_nums, table_name=main.table_id(t,m,y), model_name= 'all-MiniLM-L6-v2')\n",
    "print(M_embedd.shape)\n",
    "#print(M_embedd[0])"
   ],
   "outputs": [],
   "execution_count": null
  },
  {
   "attachments": {},
   "cell_type": "markdown",
   "metadata": {},
   "source": [
    "now we can umap the embeddings"
   ]
  },
  {
   "cell_type": "code",
   "metadata": {},
   "source": [
    "import embedding_graphs.UMAP_embeddings as umap\n",
    "\n",
    "atr = ['title', 'subreddit']\n",
    "atr_df = db_queries.get_attributes(attributes=atr, numbers=subr_nums, table_name=main.table_id(t,m,y), sql_db=db_file_s)\n",
    "print(atr_df)\n",
    "umap.show_umap(M_embedd,atr_df,'umap try 1')"
   ],
   "outputs": [],
   "execution_count": null
  }
 ],
 "metadata": {
  "kernelspec": {
   "display_name": "reddit_env",
   "language": "python",
   "name": "python3"
  },
  "language_info": {
   "codemirror_mode": {
    "name": "ipython",
    "version": 3
   },
   "file_extension": ".py",
   "mimetype": "text/x-python",
   "name": "python",
   "nbconvert_exporter": "python",
   "pygments_lexer": "ipython3",
   "version": "3.11.2"
  },
  "orig_nbformat": 4,
  "vscode": {
   "interpreter": {
    "hash": "b30b00451e15a6e568a3bcf31e66c8495019c3ce83a4cf0e953af7b462f8d442"
   }
  }
 },
 "nbformat": 4,
 "nbformat_minor": 2
}
