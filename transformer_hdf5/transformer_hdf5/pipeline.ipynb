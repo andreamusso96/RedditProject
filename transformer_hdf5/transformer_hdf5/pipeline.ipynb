{
 "cells": [
  {
   "cell_type": "code",
   "execution_count": 1,
   "metadata": {},
   "outputs": [
    {
     "ename": "IOException",
     "evalue": "IO Error: Could not set lock on file \"/cluster/work/coss/anmusso/victoria/loaded_data/loaded_comments.db\": Conflicting lock is held in /cluster/apps/nss/gcc-8.2.0/python/3.11.2/x86_64/bin/python3.11 (PID 369792). See also https://duckdb.org/docs/connect/concurrency",
     "output_type": "error",
     "traceback": [
      "\u001b[0;31m---------------------------------------------------------------------------\u001b[0m",
      "\u001b[0;31mIOException\u001b[0m                               Traceback (most recent call last)",
      "Cell \u001b[0;32mIn[1], line 6\u001b[0m\n\u001b[1;32m      4\u001b[0m \u001b[39mimport\u001b[39;00m \u001b[39membeddings\u001b[39;00m\n\u001b[1;32m      5\u001b[0m \u001b[39mimport\u001b[39;00m \u001b[39mdb_queries\u001b[39;00m\n\u001b[0;32m----> 6\u001b[0m \u001b[39mimport\u001b[39;00m \u001b[39mmain\u001b[39;00m\n\u001b[1;32m      9\u001b[0m subr \u001b[39m=\u001b[39m [\u001b[39m'\u001b[39m\u001b[39mRepublican\u001b[39m\u001b[39m'\u001b[39m, \u001b[39m'\u001b[39m\u001b[39mdemocrats\u001b[39m\u001b[39m'\u001b[39m,\u001b[39m'\u001b[39m\u001b[39mhealthcare\u001b[39m\u001b[39m'\u001b[39m, \u001b[39m'\u001b[39m\u001b[39mFeminism\u001b[39m\u001b[39m'\u001b[39m, \u001b[39m'\u001b[39m\u001b[39mnra\u001b[39m\u001b[39m'\u001b[39m, \u001b[39m'\u001b[39m\u001b[39meducation\u001b[39m\u001b[39m'\u001b[39m, \u001b[39m'\u001b[39m\u001b[39mclimatechange\u001b[39m\u001b[39m'\u001b[39m,\n\u001b[1;32m     10\u001b[0m             \u001b[39m'\u001b[39m\u001b[39mpolitics\u001b[39m\u001b[39m'\u001b[39m,\u001b[39m'\u001b[39m\u001b[39mprogressive\u001b[39m\u001b[39m'\u001b[39m, \u001b[39m'\u001b[39m\u001b[39mThe_Donald\u001b[39m\u001b[39m'\u001b[39m,\u001b[39m'\u001b[39m\u001b[39mTrueChristian\u001b[39m\u001b[39m'\u001b[39m,\u001b[39m'\u001b[39m\u001b[39mTrucks\u001b[39m\u001b[39m'\u001b[39m,\u001b[39m'\u001b[39m\u001b[39mteenagers\u001b[39m\u001b[39m'\u001b[39m,\u001b[39m'\u001b[39m\u001b[39mAskMenOver30\u001b[39m\u001b[39m'\u001b[39m,\n\u001b[1;32m     11\u001b[0m             \u001b[39m'\u001b[39m\u001b[39mbackpacking\u001b[39m\u001b[39m'\u001b[39m,\u001b[39m'\u001b[39m\u001b[39mnews\u001b[39m\u001b[39m'\u001b[39m,\u001b[39m'\u001b[39m\u001b[39mBlackLivesMatter\u001b[39m\u001b[39m'\u001b[39m,\u001b[39m'\u001b[39m\u001b[39mracism\u001b[39m\u001b[39m'\u001b[39m,\u001b[39m'\u001b[39m\u001b[39mnews\u001b[39m\u001b[39m'\u001b[39m,\u001b[39m'\u001b[39m\u001b[39musa\u001b[39m\u001b[39m'\u001b[39m,\u001b[39m'\u001b[39m\u001b[39mDefundPoliceNYC\u001b[39m\u001b[39m'\u001b[39m]\n\u001b[1;32m     14\u001b[0m \u001b[39m# this is the file to which the sql database will be saved\u001b[39;00m\n",
      "File \u001b[0;32m~/victoria/RedditProject/transformer_hdf5/main.py:15\u001b[0m\n\u001b[1;32m     10\u001b[0m subr \u001b[39m=\u001b[39m [\u001b[39m'\u001b[39m\u001b[39mRepublican\u001b[39m\u001b[39m'\u001b[39m, \u001b[39m'\u001b[39m\u001b[39mdemocrats\u001b[39m\u001b[39m'\u001b[39m, \u001b[39m'\u001b[39m\u001b[39mhealthcare\u001b[39m\u001b[39m'\u001b[39m, \u001b[39m'\u001b[39m\u001b[39mFeminism\u001b[39m\u001b[39m'\u001b[39m, \u001b[39m'\u001b[39m\u001b[39mnra\u001b[39m\u001b[39m'\u001b[39m, \u001b[39m'\u001b[39m\u001b[39meducation\u001b[39m\u001b[39m'\u001b[39m, \u001b[39m'\u001b[39m\u001b[39mclimatechange\u001b[39m\u001b[39m'\u001b[39m,\n\u001b[1;32m     11\u001b[0m         \u001b[39m'\u001b[39m\u001b[39mpolitics\u001b[39m\u001b[39m'\u001b[39m, \u001b[39m'\u001b[39m\u001b[39mprogressive\u001b[39m\u001b[39m'\u001b[39m, \u001b[39m'\u001b[39m\u001b[39mThe_Donald\u001b[39m\u001b[39m'\u001b[39m, \u001b[39m'\u001b[39m\u001b[39mTrueChristian\u001b[39m\u001b[39m'\u001b[39m, \u001b[39m'\u001b[39m\u001b[39mTrucks\u001b[39m\u001b[39m'\u001b[39m, \u001b[39m'\u001b[39m\u001b[39mteenagers\u001b[39m\u001b[39m'\u001b[39m, \u001b[39m'\u001b[39m\u001b[39mAskMenOver30\u001b[39m\u001b[39m'\u001b[39m,\n\u001b[1;32m     12\u001b[0m         \u001b[39m'\u001b[39m\u001b[39mbackpacking\u001b[39m\u001b[39m'\u001b[39m, \u001b[39m'\u001b[39m\u001b[39mnews\u001b[39m\u001b[39m'\u001b[39m, \u001b[39m'\u001b[39m\u001b[39mBlackLivesMatter\u001b[39m\u001b[39m'\u001b[39m, \u001b[39m'\u001b[39m\u001b[39mracism\u001b[39m\u001b[39m'\u001b[39m, \u001b[39m'\u001b[39m\u001b[39mnews\u001b[39m\u001b[39m'\u001b[39m, \u001b[39m'\u001b[39m\u001b[39musa\u001b[39m\u001b[39m'\u001b[39m, \u001b[39m'\u001b[39m\u001b[39mDefundPoliceNYC\u001b[39m\u001b[39m'\u001b[39m]\n\u001b[1;32m     14\u001b[0m \u001b[39m# this is the file to which the sql database will be saved\u001b[39;00m\n\u001b[0;32m---> 15\u001b[0m db_file_c \u001b[39m=\u001b[39m duckdb\u001b[39m.\u001b[39;49mconnect(\u001b[39m\"\u001b[39;49m\u001b[39m/cluster/work/coss/anmusso/victoria/loaded_data/loaded_comments.db\u001b[39;49m\u001b[39m\"\u001b[39;49m)\n\u001b[1;32m     16\u001b[0m db_file_s \u001b[39m=\u001b[39m duckdb\u001b[39m.\u001b[39mconnect(\u001b[39m\"\u001b[39m\u001b[39m/cluster/work/coss/anmusso/victoria/loaded_data/loaded_submissions.db\u001b[39m\u001b[39m\"\u001b[39m)\n\u001b[1;32m     18\u001b[0m \u001b[39m#adjust file basepath\u001b[39;00m\n",
      "\u001b[0;31mIOException\u001b[0m: IO Error: Could not set lock on file \"/cluster/work/coss/anmusso/victoria/loaded_data/loaded_comments.db\": Conflicting lock is held in /cluster/apps/nss/gcc-8.2.0/python/3.11.2/x86_64/bin/python3.11 (PID 369792). See also https://duckdb.org/docs/connect/concurrency"
     ]
    }
   ],
   "source": [
    "import time\n",
    "import duckdb\n",
    "import load_to_db\n",
    "import embeddings\n",
    "import db_queries\n",
    "import main\n",
    "\n",
    "\n",
    "subr = ['Republican', 'democrats','healthcare', 'Feminism', 'nra', 'education', 'climatechange',\n",
    "            'politics','progressive', 'The_Donald','TrueChristian','Trucks','teenagers','AskMenOver30',\n",
    "            'backpacking','news','BlackLivesMatter','racism','news','usa','DefundPoliceNYC']\n",
    "\n",
    "\n",
    "# this is the file to which the sql database will be saved\n",
    "db_file_c = duckdb.connect(\"/cluster/work/coss/anmusso/victoria/loaded_data/loaded_comments.db\")\n",
    "db_file_s = duckdb.connect(\"/cluster/work/coss/anmusso/victoria/loaded_data/loaded_submissions.db\")\n",
    "\n"
   ]
  },
  {
   "attachments": {},
   "cell_type": "markdown",
   "metadata": {},
   "source": [
    "(We could consider changing extract_comments to also add to existing tables)\n",
    "\n",
    "Load comments into duckdb and get embeddings "
   ]
  },
  {
   "cell_type": "code",
   "execution_count": null,
   "metadata": {},
   "outputs": [],
   "source": [
    "\n",
    "\n",
    "main.load('S', '05', '2020')\n",
    "main.load('C', '05', '2020')\n",
    "main.load('S', '06', '2020')\n",
    "main.load('C', '06', '2020')"
   ]
  },
  {
   "cell_type": "code",
   "execution_count": null,
   "metadata": {},
   "outputs": [],
   "source": [
    "#run to check number of submissions/comments loaded\n",
    "start = time.time()\n",
    "print(\"C5: \\n\", db_file_c.sql(\"SELECT Count(*) FROM C_05_2020;\"))\n",
    "print(\"S5: \\n\", db_file_s.sql('SELECT Count(*) FROM S_05_2020;'))\n",
    "print(\"C6: \\n\", db_file_c.sql('SELECT Count(*) FROM C_06_2020;'))\n",
    "print(\"S6: \\n\", db_file_s.sql('SELECT Count(*) FROM S_06_2020;'))\n",
    "print(\"time to compute: \", time.time()-start)"
   ]
  },
  {
   "attachments": {},
   "cell_type": "markdown",
   "metadata": {},
   "source": [
    "Calculate embeddings:\n",
    "available models: 'all-mpnet-base-v2' , 'all-MiniLM-L6-v2',\n",
    "will automatically use gpu if available\n",
    "use main.py with batch system to choose GPU"
   ]
  },
  {
   "cell_type": "code",
   "execution_count": null,
   "metadata": {},
   "outputs": [],
   "source": [
    "t,m,y = 'S','05','2020' #type month and year\n",
    "#model_name = 'all-mpnet-base-v2'\n",
    "model_name = 'all-MiniLM-L6-v2'\n",
    "\n",
    "\n",
    "start = time.time()\n",
    "num = main.embedd(m, y, t, model_name=model_name) #returns number of embeddings calculated\n",
    "\n",
    "with open('time_tracking_2.txt', 'a') as f: #loggs time into file for comparison\n",
    "    f.write(f\"set: {m+t+y}, size:{num} model:{model_name}, gpu:{torch.cuda.get_device_name(0)} , time:{time.time()-start} \\n\")\n"
   ]
  },
  {
   "attachments": {},
   "cell_type": "markdown",
   "metadata": {},
   "source": [
    "Retrieve all entry numbers for certain subreddits within given table"
   ]
  },
  {
   "cell_type": "code",
   "execution_count": null,
   "metadata": {},
   "outputs": [],
   "source": [
    "t,m,y = 'S','05','2020' #type month and year\n",
    "subr_nums = db_queries.get_subreddit_numbers(table_name = main.table_id(t,m,y), sql_db = db_file_s, subreddits = subr)\n",
    "print(len(subr_nums), subr_nums[0])"
   ]
  },
  {
   "attachments": {},
   "cell_type": "markdown",
   "metadata": {},
   "source": [
    "load embeddings of retrieved numbers"
   ]
  },
  {
   "cell_type": "code",
   "execution_count": null,
   "metadata": {},
   "outputs": [],
   "source": [
    "M_embedd = main.fetch_embeddings(num_list = subr_nums, table_name=main.table_id(t,m,y), model_name= 'all-mpnet-base-v2')\n",
    "print(M_embedd.shape)\n",
    "print(M_embedd[0])"
   ]
  },
  {
   "attachments": {},
   "cell_type": "markdown",
   "metadata": {},
   "source": [
    "now we can umap the embeddings"
   ]
  },
  {
   "cell_type": "code",
   "execution_count": null,
   "metadata": {},
   "outputs": [],
   "source": [
    "import embedding_graphs.UMAP_embeddings as umap\n",
    "atr = ['title', 'subreddit']\n",
    "atr_df = db_queries.get_attributes(attributes=atr, numbers=subr_nums, table_name=main.table_id(t,m,y), sql_db=db_file_s)\n",
    "umap.show_umap(M_embedd,df)"
   ]
  }
 ],
 "metadata": {
  "kernelspec": {
   "display_name": "reddit_env",
   "language": "python",
   "name": "python3"
  },
  "language_info": {
   "codemirror_mode": {
    "name": "ipython",
    "version": 3
   },
   "file_extension": ".py",
   "mimetype": "text/x-python",
   "name": "python",
   "nbconvert_exporter": "python",
   "pygments_lexer": "ipython3",
   "version": "3.11.2"
  },
  "orig_nbformat": 4,
  "vscode": {
   "interpreter": {
    "hash": "b30b00451e15a6e568a3bcf31e66c8495019c3ce83a4cf0e953af7b462f8d442"
   }
  }
 },
 "nbformat": 4,
 "nbformat_minor": 2
}
