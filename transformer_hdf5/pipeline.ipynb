{
 "cells": [
  {
   "cell_type": "code",
   "execution_count": null,
   "metadata": {},
   "outputs": [],
   "source": [
    "import time\n",
    "import duckdb\n",
    "import numpy as np\n",
    "import load_to_db\n",
    "import embeddings\n",
    "import db_queries\n",
    "import main\n",
    "\n",
    "\n",
    "\n",
    "# this is the file to which the sql database will be saved\n",
    "db_file_c = duckdb.connect(\"/cluster/work/coss/anmusso/victoria/loaded_data/loaded_comments.db\")\n",
    "db_file_s = duckdb.connect(\"/cluster/work/coss/anmusso/victoria/loaded_data/loaded_submissions.db\")\n",
    "\n"
   ]
  },
  {
   "attachments": {},
   "cell_type": "markdown",
   "metadata": {},
   "source": [
    "(We could consider changing extract_comments to also add to existing tables)\n",
    "\n",
    "Load comments into duckdb and get embeddings "
   ]
  },
  {
   "cell_type": "code",
   "execution_count": null,
   "metadata": {},
   "outputs": [],
   "source": [
    "\n",
    "#main.load('S', '05', '2020')\n",
    "#main.load('S', '06', '2020')\n",
    "#main.load('C', '05', '2020')\n",
    "#main.load('C', '06', '2020')"
   ]
  },
  {
   "cell_type": "code",
   "execution_count": null,
   "metadata": {},
   "outputs": [],
   "source": [
    "#run to check number of submissions/comments loaded\n",
    "start = time.time()\n",
    "print(\"C: \\n\", db_file_c.sql(\"SELECT Count(*) FROM comments;\"))\n",
    "print(\"S: \\n\", db_file_s.sql('SELECT Count(*) FROM submissions;'))\n",
    "print(\"time to compute: \", time.time()-start)\n"
   ]
  },
  {
   "attachments": {},
   "cell_type": "markdown",
   "metadata": {},
   "source": [
    "Calculate embeddings: (uncomment line)\n",
    "available models: 'all-mpnet-base-v2' , 'all-MiniLM-L6-v2', 'multi-qa-mpnet-base-dot-v1'\n",
    "will automatically use gpu if available\n",
    "use main.py with batch system to choose GPU"
   ]
  },
  {
   "cell_type": "code",
   "execution_count": null,
   "metadata": {},
   "outputs": [],
   "source": [
    "t= 'S' #type month and year\n",
    "model_name = 'all-MiniLM-L6-v2'\n",
    "\n",
    "\n",
    "start = time.time()\n",
    "#num = main.embedd( t, model_name=model_name) #returns number of embeddings calculated\n",
    "\n",
    "with open('time_tracking_2.txt', 'a') as f: #loggs time into file for comparison\n",
    "    f.write(f\"set: {t}, size:{num} model:{model_name}, gpu:{torch.cuda.get_device_name(0)} , time:{time.time()-start} \\n\")\n"
   ]
  },
  {
   "attachments": {},
   "cell_type": "markdown",
   "metadata": {},
   "source": [
    "Choose table and subreddits we want to isolate"
   ]
  },
  {
   "cell_type": "code",
   "execution_count": null,
   "metadata": {},
   "outputs": [],
   "source": [
    "table = \"submissions\"\n",
    "subr = ['Republican', 'democrats','healthcare', 'Feminism', 'nra', 'education', 'climatechange',\n",
    "            'politics','progressive', 'The_Donald','TrueChristian','Trucks','teenagers','AskMenOver30',\n",
    "            'backpacking','news','BlackLivesMatter','racism','news','usa','DefundPoliceNYC']\n",
    "\n",
    "\n"
   ]
  },
  {
   "attachments": {},
   "cell_type": "markdown",
   "metadata": {},
   "source": [
    "We can retrieve the numbers, their embeddings and corresponding attributes \n",
    "umap the embeddings and display them with their corresponding attributes"
   ]
  },
  {
   "cell_type": "code",
   "execution_count": null,
   "metadata": {},
   "outputs": [],
   "source": [
    "import embedding_graphs.UMAP_embeddings as umap\n",
    "\n",
    "subr_nums = db_queries.get_subreddit_numbers(table_name = table, sql_db = db_file_s, subreddits = subr)\n",
    "\n",
    "M_embedd = main.fetch_embeddings(num_list = subr_nums, table_name=table, model_name= 'all-MiniLM-L6-v2')\n",
    "\n",
    "atr = ['title', 'subreddit']\n",
    "atr_df = db_queries.get_attributes(attributes=atr, numbers=subr_nums, table_name=table, sql_db=db_file_s)\n",
    "print(atr_df)\n",
    "\n",
    "umap.show_umap(M_embedd,atr_df,'umap try 1')"
   ]
  },
  {
   "attachments": {},
   "cell_type": "markdown",
   "metadata": {},
   "source": [
    "alternitavely we can retrieve the coordinates of UMAP Embedding, here we use GPU UMAP of all submissions:\n",
    "(this requires more than 20GB in memory else retrieving embeddings will crash)"
   ]
  },
  {
   "cell_type": "code",
   "execution_count": null,
   "metadata": {},
   "outputs": [],
   "source": [
    "import embedding_graphs.UMAP_embeddings as um\n",
    "\n",
    "table = 'submissions'\n",
    "\n",
    "subr_nums = db_queries.get_all_numbers(table_name=table, sql_db=db_file_s)\n",
    "print('got ids', len(subr_nums))\n",
    "subr_nums = subr_nums[0:1000000]\n",
    "\n",
    "M_embedd = main.fetch_embeddings(num_list = subr_nums, table_name=table, model_name= 'all-MiniLM-L6-v2')\n",
    "print('got embeddings', M_embedd.shape)\n",
    "\n",
    "coordinates = um.UMAP_to_df_gpu(M_embedd, n_neighbors = 50,  n_components=3, min_dist=0.1)\n",
    "del M_embedd\n",
    "coordinates.columns = [\"x\", \"y\",'z']\n"
   ]
  },
  {
   "attachments": {},
   "cell_type": "markdown",
   "metadata": {},
   "source": [
    "Next we create the clusters for the new coordinates"
   ]
  },
  {
   "cell_type": "code",
   "execution_count": 1,
   "metadata": {},
   "outputs": [],
   "source": [
    "import numpy as np\n",
    "try_matrix = np.random.uniform(size = (1_000_000,3))"
   ]
  },
  {
   "cell_type": "code",
   "execution_count": 2,
   "metadata": {},
   "outputs": [
    {
     "name": "stdout",
     "output_type": "stream",
     "text": [
      "[I] [17:39:51.990171] Unused keyword parameter: algorithm during cuML estimator initialization\n"
     ]
    }
   ],
   "source": [
    "import cuml\n",
    "scanner = cuml.cluster.hdbscan.HDBSCAN(\n",
    "    min_cluster_size = 100,\n",
    "    algorithm = 'ball_tree'\n",
    ")\n",
    "clusters = scanner.fit_predict(try_matrix)\n"
   ]
  },
  {
   "attachments": {},
   "cell_type": "markdown",
   "metadata": {},
   "source": [
    "we save this to a new table, which we can then join on the num with the original"
   ]
  },
  {
   "cell_type": "code",
   "execution_count": null,
   "metadata": {},
   "outputs": [],
   "source": [
    "\n",
    "coordinates[\"num\"] = subr_nums\n",
    "coordinates[\"cluster\"] = clusters\n",
    "\n",
    "db_file_s.sql(f\"DROP TABLE IF EXISTS umap_coordinates\")\n",
    "db_file_s.sql(\"CREATE TABLE umap_coordinates AS SELECT * FROM coordinates\")\n",
    "\n",
    "db_file_s.sql(f\"DROP TABLE IF EXISTS submission_info\")\n",
    "db_file_s.sql(\"CREATE TABLE submission_info AS SELECT * FROM submissions JOIN coordinates ON (coordinates.num = submissions.num); \")"
   ]
  },
  {
   "cell_type": "markdown",
   "metadata": {},
   "source": [
    "we can visualize the clusters to doublecheck"
   ]
  },
  {
   "cell_type": "code",
   "execution_count": null,
   "metadata": {},
   "outputs": [],
   "source": "um.show_umap_3d(coordinates=coordinates, color=clusters, title='umap coordinates', hover_data=subr_nums)"
  },
  {
   "cell_type": "markdown",
   "metadata": {},
   "source": [
    "next we calculate tf-idf to find top words for each cluster.\n",
    "first extract document of each cluster"
   ]
  },
  {
   "metadata": {},
   "cell_type": "code",
   "outputs": [],
   "execution_count": null,
   "source": [
    "import topic_finding as tf \n",
    "tfidf = tf.get_tfidf()\n",
    "top_words = tf.get_top_terms()\n",
    "sizes = tf.get_topic_sizes()"
   ]
  },
  {
   "metadata": {},
   "cell_type": "code",
   "outputs": [],
   "execution_count": null,
   "source": ""
  },
  {
   "metadata": {},
   "cell_type": "code",
   "outputs": [],
   "execution_count": null,
   "source": ""
  }
 ],
 "metadata": {
  "kernelspec": {
   "display_name": "reddit_env",
   "language": "python",
   "name": "python3"
  },
  "language_info": {
   "codemirror_mode": {
    "name": "ipython",
    "version": 3
   },
   "file_extension": ".py",
   "mimetype": "text/x-python",
   "name": "python",
   "nbconvert_exporter": "python",
   "pygments_lexer": "ipython3",
   "version": "3.11.2 (main, Apr 14 2023, 09:06:29) [GCC 8.2.0]"
  },
  "orig_nbformat": 4,
  "vscode": {
   "interpreter": {
    "hash": "b30b00451e15a6e568a3bcf31e66c8495019c3ce83a4cf0e953af7b462f8d442"
   }
  }
 },
 "nbformat": 4,
 "nbformat_minor": 2
}
